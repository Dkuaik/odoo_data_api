{
 "cells": [
  {
   "cell_type": "code",
   "execution_count": 24,
   "id": "8a25db1f-2469-421c-a092-a42d05221526",
   "metadata": {},
   "outputs": [],
   "source": [
    "import requests\n",
    "import json\n",
    "from bs4 import BeautifulSoup\n",
    "from lxml import etree"
   ]
  },
  {
   "cell_type": "code",
   "execution_count": 48,
   "id": "15cf1a89",
   "metadata": {},
   "outputs": [],
   "source": [
    "# url = 'https://www.easybroker.com/agent/mls_properties/terreno-en-venta-cerca-de-los-principales-accesos-de-lomas-de-angelopolis-lomas-de-angelopolis-ii'\n",
    "# url = 'https://www.easybroker.com/mx/listings/terreno-en-venta-cerca-de-los-principales-accesos-de-lomas-de-angelopolis-lomas-de-angelopolis-ii'\n",
    "url = 'https://www.easybroker.com/agent/mls_properties/terreno-venta-merida-480m2-urbanizado-financiamiento-aura-dzitya'\n",
    "\n",
    "\n"
   ]
  },
  {
   "cell_type": "code",
   "execution_count": 29,
   "id": "adff9762",
   "metadata": {},
   "outputs": [],
   "source": [
    "def clean_currency(value):\n",
    "    \"\"\"\n",
    "    Limpia una cadena de texto que representa una cantidad de dinero y la convierte en un float.\n",
    "    \n",
    "    Args:\n",
    "    value (str): La cadena de texto que representa la cantidad de dinero.\n",
    "    \n",
    "    Returns:\n",
    "    float: La cantidad de dinero como un float.\n",
    "    \"\"\"\n",
    "    # Eliminar el símbolo de dólar y las comas\n",
    "    cleaned_value = value.replace('$', '').replace(',', '')\n",
    "    return float(cleaned_value)"
   ]
  },
  {
   "cell_type": "code",
   "execution_count": 40,
   "id": "1dbbb419",
   "metadata": {},
   "outputs": [],
   "source": [
    "\n",
    "def find_element_by_class_and_tag(html_content, tag, class_name):\n",
    "    \"\"\"\n",
    "    Encuentra un elemento en el contenido HTML dado su etiqueta y clase.\n",
    "\n",
    "    Args:\n",
    "    html_content (str): El contenido HTML completo.\n",
    "    tag (str): La etiqueta del elemento que se desea encontrar.\n",
    "    class_name (str): La clase del elemento que se desea encontrar.\n",
    "\n",
    "    Returns:\n",
    "    element: El elemento encontrado o None si no se encuentra.\n",
    "    \"\"\"\n",
    "    soup = BeautifulSoup(html_content, 'html.parser')\n",
    "    element = soup.find(tag, class_=class_name)\n",
    "    return element"
   ]
  },
  {
   "cell_type": "code",
   "execution_count": 49,
   "id": "67bc95be-d237-406b-a52c-45643f3f3887",
   "metadata": {},
   "outputs": [
    {
     "name": "stdout",
     "output_type": "stream",
     "text": [
      "Success\n"
     ]
    }
   ],
   "source": [
    "headers = {\n",
    "    'User-Agent': 'Mozilla/5.0 (Windows NT 10.0; Win64; x64) AppleWebKit/537.36 (KHTML, like Gecko) Chrome/58.0.3029.110 Safari/537.3'\n",
    "}\n",
    "\n",
    "response = requests.get(url, headers=headers)\n",
    "\n",
    "\n",
    "if response.status_code == 200:\n",
    "    print('Success')\n",
    "else:\n",
    "    print(f'Error: {response.status_code}')\n"
   ]
  },
  {
   "cell_type": "code",
   "execution_count": 50,
   "id": "c03e2745",
   "metadata": {},
   "outputs": [
    {
     "name": "stdout",
     "output_type": "stream",
     "text": [
      "1680000.0\n"
     ]
    }
   ],
   "source": [
    "\n",
    "# Encontrar el valor de la propiedad\n",
    "valor_propiedad = find_element_by_class_and_tag(response.text, 'div', 'digits')\n",
    "valor_propiedad = clean_currency(valor_propiedad.text)\n",
    "print(valor_propiedad)"
   ]
  },
  {
   "cell_type": "code",
   "execution_count": null,
   "id": "338e584e",
   "metadata": {},
   "outputs": [],
   "source": []
  }
 ],
 "metadata": {
  "kernelspec": {
   "display_name": "venv",
   "language": "python",
   "name": "python3"
  },
  "language_info": {
   "codemirror_mode": {
    "name": "ipython",
    "version": 3
   },
   "file_extension": ".py",
   "mimetype": "text/x-python",
   "name": "python",
   "nbconvert_exporter": "python",
   "pygments_lexer": "ipython3",
   "version": "3.12.3"
  }
 },
 "nbformat": 4,
 "nbformat_minor": 5
}
